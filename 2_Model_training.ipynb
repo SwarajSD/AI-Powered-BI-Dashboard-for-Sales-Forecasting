{
 "cells": [
  {
   "cell_type": "code",
   "execution_count": 1,
   "id": "b8a1c158-d9a9-4b70-801e-c4545aa040cb",
   "metadata": {},
   "outputs": [
    {
     "name": "stdout",
     "output_type": "stream",
     "text": [
      "Collecting prophet\n",
      "  Downloading prophet-1.1.6-py3-none-win_amd64.whl.metadata (3.6 kB)\n",
      "Collecting cmdstanpy>=1.0.4 (from prophet)\n",
      "  Downloading cmdstanpy-1.2.5-py3-none-any.whl.metadata (4.0 kB)\n",
      "Requirement already satisfied: numpy>=1.15.4 in d:\\programs\\anaconda3\\lib\\site-packages (from prophet) (1.26.4)\n",
      "Requirement already satisfied: matplotlib>=2.0.0 in d:\\programs\\anaconda3\\lib\\site-packages (from prophet) (3.8.0)\n",
      "Requirement already satisfied: pandas>=1.0.4 in d:\\programs\\anaconda3\\lib\\site-packages (from prophet) (2.1.4)\n",
      "Collecting holidays<1,>=0.25 (from prophet)\n",
      "  Downloading holidays-0.67-py3-none-any.whl.metadata (27 kB)\n",
      "Requirement already satisfied: tqdm>=4.36.1 in d:\\programs\\anaconda3\\lib\\site-packages (from prophet) (4.65.0)\n",
      "Collecting importlib-resources (from prophet)\n",
      "  Downloading importlib_resources-6.5.2-py3-none-any.whl.metadata (3.9 kB)\n",
      "Collecting stanio<2.0.0,>=0.4.0 (from cmdstanpy>=1.0.4->prophet)\n",
      "  Downloading stanio-0.5.1-py3-none-any.whl.metadata (1.6 kB)\n",
      "Requirement already satisfied: python-dateutil in c:\\users\\swara\\appdata\\roaming\\python\\python311\\site-packages (from holidays<1,>=0.25->prophet) (2.8.2)\n",
      "Requirement already satisfied: contourpy>=1.0.1 in d:\\programs\\anaconda3\\lib\\site-packages (from matplotlib>=2.0.0->prophet) (1.2.0)\n",
      "Requirement already satisfied: cycler>=0.10 in d:\\programs\\anaconda3\\lib\\site-packages (from matplotlib>=2.0.0->prophet) (0.11.0)\n",
      "Requirement already satisfied: fonttools>=4.22.0 in d:\\programs\\anaconda3\\lib\\site-packages (from matplotlib>=2.0.0->prophet) (4.25.0)\n",
      "Requirement already satisfied: kiwisolver>=1.0.1 in d:\\programs\\anaconda3\\lib\\site-packages (from matplotlib>=2.0.0->prophet) (1.4.4)\n",
      "Requirement already satisfied: packaging>=20.0 in d:\\programs\\anaconda3\\lib\\site-packages (from matplotlib>=2.0.0->prophet) (23.1)\n",
      "Requirement already satisfied: pillow>=6.2.0 in d:\\programs\\anaconda3\\lib\\site-packages (from matplotlib>=2.0.0->prophet) (10.2.0)\n",
      "Requirement already satisfied: pyparsing>=2.3.1 in d:\\programs\\anaconda3\\lib\\site-packages (from matplotlib>=2.0.0->prophet) (3.0.9)\n",
      "Requirement already satisfied: pytz>=2020.1 in d:\\programs\\anaconda3\\lib\\site-packages (from pandas>=1.0.4->prophet) (2023.3.post1)\n",
      "Requirement already satisfied: tzdata>=2022.1 in d:\\programs\\anaconda3\\lib\\site-packages (from pandas>=1.0.4->prophet) (2023.3)\n",
      "Requirement already satisfied: colorama in c:\\users\\swara\\appdata\\roaming\\python\\python311\\site-packages (from tqdm>=4.36.1->prophet) (0.4.6)\n",
      "Requirement already satisfied: six>=1.5 in c:\\users\\swara\\appdata\\roaming\\python\\python311\\site-packages (from python-dateutil->holidays<1,>=0.25->prophet) (1.16.0)\n",
      "Downloading prophet-1.1.6-py3-none-win_amd64.whl (13.3 MB)\n",
      "   ---------------------------------------- 0.0/13.3 MB ? eta -:--:--\n",
      "   ---------------------------------------- 0.0/13.3 MB 660.6 kB/s eta 0:00:21\n",
      "   ---------------------------------------- 0.1/13.3 MB 656.4 kB/s eta 0:00:21\n",
      "   ---------------------------------------- 0.1/13.3 MB 751.6 kB/s eta 0:00:18\n",
      "   ---------------------------------------- 0.1/13.3 MB 711.9 kB/s eta 0:00:19\n",
      "    --------------------------------------- 0.2/13.3 MB 787.7 kB/s eta 0:00:17\n",
      "    --------------------------------------- 0.2/13.3 MB 838.1 kB/s eta 0:00:16\n",
      "    --------------------------------------- 0.3/13.3 MB 842.9 kB/s eta 0:00:16\n",
      "   - -------------------------------------- 0.3/13.3 MB 912.8 kB/s eta 0:00:15\n",
      "   - -------------------------------------- 0.4/13.3 MB 924.3 kB/s eta 0:00:14\n",
      "   - -------------------------------------- 0.5/13.3 MB 984.6 kB/s eta 0:00:14\n",
      "   - -------------------------------------- 0.5/13.3 MB 1.0 MB/s eta 0:00:13\n",
      "   - -------------------------------------- 0.6/13.3 MB 1.1 MB/s eta 0:00:13\n",
      "   - -------------------------------------- 0.7/13.3 MB 1.1 MB/s eta 0:00:12\n",
      "   -- ------------------------------------- 0.7/13.3 MB 1.1 MB/s eta 0:00:12\n",
      "   -- ------------------------------------- 0.7/13.3 MB 1.1 MB/s eta 0:00:12\n",
      "   -- ------------------------------------- 0.8/13.3 MB 1.1 MB/s eta 0:00:12\n",
      "   -- ------------------------------------- 0.9/13.3 MB 1.1 MB/s eta 0:00:12\n",
      "   -- ------------------------------------- 0.9/13.3 MB 1.1 MB/s eta 0:00:12\n",
      "   --- ------------------------------------ 1.0/13.3 MB 1.1 MB/s eta 0:00:11\n",
      "   --- ------------------------------------ 1.1/13.3 MB 1.2 MB/s eta 0:00:11\n",
      "   --- ------------------------------------ 1.2/13.3 MB 1.2 MB/s eta 0:00:11\n",
      "   --- ------------------------------------ 1.2/13.3 MB 1.2 MB/s eta 0:00:11\n",
      "   --- ------------------------------------ 1.3/13.3 MB 1.2 MB/s eta 0:00:10\n",
      "   ---- ----------------------------------- 1.5/13.3 MB 1.3 MB/s eta 0:00:10\n",
      "   ---- ----------------------------------- 1.5/13.3 MB 1.3 MB/s eta 0:00:09\n",
      "   ---- ----------------------------------- 1.7/13.3 MB 1.4 MB/s eta 0:00:09\n",
      "   ----- ---------------------------------- 1.8/13.3 MB 1.4 MB/s eta 0:00:09\n",
      "   ----- ---------------------------------- 1.9/13.3 MB 1.4 MB/s eta 0:00:08\n",
      "   ----- ---------------------------------- 2.0/13.3 MB 1.5 MB/s eta 0:00:08\n",
      "   ------ --------------------------------- 2.1/13.3 MB 1.5 MB/s eta 0:00:08\n",
      "   ------ --------------------------------- 2.2/13.3 MB 1.5 MB/s eta 0:00:08\n",
      "   ------ --------------------------------- 2.3/13.3 MB 1.5 MB/s eta 0:00:08\n",
      "   ------- -------------------------------- 2.4/13.3 MB 1.5 MB/s eta 0:00:08\n",
      "   ------- -------------------------------- 2.5/13.3 MB 1.6 MB/s eta 0:00:07\n",
      "   ------- -------------------------------- 2.6/13.3 MB 1.6 MB/s eta 0:00:07\n",
      "   -------- ------------------------------- 2.7/13.3 MB 1.6 MB/s eta 0:00:07\n",
      "   -------- ------------------------------- 2.9/13.3 MB 1.7 MB/s eta 0:00:07\n",
      "   --------- ------------------------------ 3.1/13.3 MB 1.7 MB/s eta 0:00:06\n",
      "   --------- ------------------------------ 3.2/13.3 MB 1.7 MB/s eta 0:00:06\n",
      "   ---------- ----------------------------- 3.4/13.3 MB 1.8 MB/s eta 0:00:06\n",
      "   ---------- ----------------------------- 3.4/13.3 MB 1.8 MB/s eta 0:00:06\n",
      "   ---------- ----------------------------- 3.6/13.3 MB 1.9 MB/s eta 0:00:06\n",
      "   ----------- ---------------------------- 3.7/13.3 MB 1.8 MB/s eta 0:00:06\n",
      "   ----------- ---------------------------- 3.9/13.3 MB 1.9 MB/s eta 0:00:06\n",
      "   ----------- ---------------------------- 3.9/13.3 MB 1.9 MB/s eta 0:00:06\n",
      "   ------------ --------------------------- 4.1/13.3 MB 1.9 MB/s eta 0:00:05\n",
      "   ------------ --------------------------- 4.3/13.3 MB 2.0 MB/s eta 0:00:05\n",
      "   ------------- -------------------------- 4.5/13.3 MB 2.0 MB/s eta 0:00:05\n",
      "   ------------- -------------------------- 4.5/13.3 MB 2.0 MB/s eta 0:00:05\n",
      "   -------------- ------------------------- 4.7/13.3 MB 2.0 MB/s eta 0:00:05\n",
      "   -------------- ------------------------- 5.0/13.3 MB 2.1 MB/s eta 0:00:05\n",
      "   --------------- ------------------------ 5.1/13.3 MB 2.1 MB/s eta 0:00:04\n",
      "   --------------- ------------------------ 5.3/13.3 MB 2.1 MB/s eta 0:00:04\n",
      "   ---------------- ----------------------- 5.5/13.3 MB 2.2 MB/s eta 0:00:04\n",
      "   ----------------- ---------------------- 5.7/13.3 MB 2.2 MB/s eta 0:00:04\n",
      "   ------------------ --------------------- 6.0/13.3 MB 2.3 MB/s eta 0:00:04\n",
      "   ------------------ --------------------- 6.3/13.3 MB 2.4 MB/s eta 0:00:03\n",
      "   ------------------- -------------------- 6.6/13.3 MB 2.4 MB/s eta 0:00:03\n",
      "   -------------------- ------------------- 6.9/13.3 MB 2.5 MB/s eta 0:00:03\n",
      "   --------------------- ------------------ 7.2/13.3 MB 2.5 MB/s eta 0:00:03\n",
      "   ---------------------- ----------------- 7.5/13.3 MB 2.6 MB/s eta 0:00:03\n",
      "   ----------------------- ---------------- 7.7/13.3 MB 2.7 MB/s eta 0:00:03\n",
      "   ----------------------- ---------------- 8.0/13.3 MB 2.7 MB/s eta 0:00:02\n",
      "   ------------------------ --------------- 8.2/13.3 MB 2.7 MB/s eta 0:00:02\n",
      "   ------------------------ --------------- 8.3/13.3 MB 2.8 MB/s eta 0:00:02\n",
      "   -------------------------- ------------- 8.8/13.3 MB 2.9 MB/s eta 0:00:02\n",
      "   -------------------------- ------------- 8.8/13.3 MB 2.9 MB/s eta 0:00:02\n",
      "   -------------------------- ------------- 9.0/13.3 MB 2.8 MB/s eta 0:00:02\n",
      "   --------------------------- ------------ 9.3/13.3 MB 2.9 MB/s eta 0:00:02\n",
      "   ----------------------------- ---------- 9.7/13.3 MB 3.0 MB/s eta 0:00:02\n",
      "   ------------------------------ --------- 10.0/13.3 MB 3.0 MB/s eta 0:00:02\n",
      "   ------------------------------ --------- 10.2/13.3 MB 3.0 MB/s eta 0:00:02\n",
      "   ------------------------------- -------- 10.6/13.3 MB 3.4 MB/s eta 0:00:01\n",
      "   ------------------------------- -------- 10.6/13.3 MB 3.4 MB/s eta 0:00:01\n",
      "   --------------------------------- ------ 11.2/13.3 MB 3.9 MB/s eta 0:00:01\n",
      "   --------------------------------- ------ 11.2/13.3 MB 3.8 MB/s eta 0:00:01\n",
      "   ---------------------------------- ----- 11.5/13.3 MB 4.0 MB/s eta 0:00:01\n",
      "   ----------------------------------- ---- 11.8/13.3 MB 4.2 MB/s eta 0:00:01\n",
      "   ------------------------------------ --- 12.2/13.3 MB 4.4 MB/s eta 0:00:01\n",
      "   ------------------------------------- -- 12.6/13.3 MB 4.7 MB/s eta 0:00:01\n",
      "   ---------------------------------------  13.1/13.3 MB 5.0 MB/s eta 0:00:01\n",
      "   ---------------------------------------  13.3/13.3 MB 5.0 MB/s eta 0:00:01\n",
      "   ---------------------------------------  13.3/13.3 MB 5.0 MB/s eta 0:00:01\n",
      "   ---------------------------------------- 13.3/13.3 MB 4.9 MB/s eta 0:00:00\n",
      "Downloading cmdstanpy-1.2.5-py3-none-any.whl (94 kB)\n",
      "   ---------------------------------------- 0.0/94.5 kB ? eta -:--:--\n",
      "   ---------------------------------------- 94.5/94.5 kB ? eta 0:00:00\n",
      "Downloading holidays-0.67-py3-none-any.whl (820 kB)\n",
      "   ---------------------------------------- 0.0/820.7 kB ? eta -:--:--\n",
      "   ------------------------- ------------- 532.5/820.7 kB 16.3 MB/s eta 0:00:01\n",
      "   --------------------------------------  819.2/820.7 kB 12.8 MB/s eta 0:00:01\n",
      "   ---------------------------------------- 820.7/820.7 kB 8.6 MB/s eta 0:00:00\n",
      "Downloading importlib_resources-6.5.2-py3-none-any.whl (37 kB)\n",
      "Downloading stanio-0.5.1-py3-none-any.whl (8.1 kB)\n",
      "Installing collected packages: stanio, importlib-resources, holidays, cmdstanpy, prophet\n",
      "Successfully installed cmdstanpy-1.2.5 holidays-0.67 importlib-resources-6.5.2 prophet-1.1.6 stanio-0.5.1\n"
     ]
    }
   ],
   "source": [
    "!pip install prophet"
   ]
  },
  {
   "cell_type": "code",
   "execution_count": 3,
   "id": "df85d6b4-ec28-48e0-9e42-07671545822e",
   "metadata": {},
   "outputs": [],
   "source": [
    "import pandas as pd"
   ]
  },
  {
   "cell_type": "code",
   "execution_count": 5,
   "id": "37ab9b2f-739f-4edc-931a-5bd5e53d4020",
   "metadata": {},
   "outputs": [],
   "source": [
    "df = pd.read_csv(\"processed_sales.csv\")"
   ]
  },
  {
   "cell_type": "code",
   "execution_count": 11,
   "id": "55ff5ef6-6c87-4ef0-8249-49e338db1560",
   "metadata": {},
   "outputs": [],
   "source": [
    "# Rename columns for prophet\n",
    "df.columns = ['ds', 'y']"
   ]
  },
  {
   "cell_type": "code",
   "execution_count": 9,
   "id": "0e2a479f-188b-4545-87dd-206c9431ac7e",
   "metadata": {},
   "outputs": [
    {
     "data": {
      "text/html": [
       "<div>\n",
       "<style scoped>\n",
       "    .dataframe tbody tr th:only-of-type {\n",
       "        vertical-align: middle;\n",
       "    }\n",
       "\n",
       "    .dataframe tbody tr th {\n",
       "        vertical-align: top;\n",
       "    }\n",
       "\n",
       "    .dataframe thead th {\n",
       "        text-align: right;\n",
       "    }\n",
       "</style>\n",
       "<table border=\"1\" class=\"dataframe\">\n",
       "  <thead>\n",
       "    <tr style=\"text-align: right;\">\n",
       "      <th></th>\n",
       "      <th>ds</th>\n",
       "      <th>y</th>\n",
       "    </tr>\n",
       "  </thead>\n",
       "  <tbody>\n",
       "    <tr>\n",
       "      <th>0</th>\n",
       "      <td>2013-01-01</td>\n",
       "      <td>2511.618999</td>\n",
       "    </tr>\n",
       "    <tr>\n",
       "      <th>1</th>\n",
       "      <td>2013-01-02</td>\n",
       "      <td>496092.417944</td>\n",
       "    </tr>\n",
       "    <tr>\n",
       "      <th>2</th>\n",
       "      <td>2013-01-03</td>\n",
       "      <td>361461.231124</td>\n",
       "    </tr>\n",
       "    <tr>\n",
       "      <th>3</th>\n",
       "      <td>2013-01-04</td>\n",
       "      <td>354459.677093</td>\n",
       "    </tr>\n",
       "    <tr>\n",
       "      <th>4</th>\n",
       "      <td>2013-01-05</td>\n",
       "      <td>477350.121229</td>\n",
       "    </tr>\n",
       "  </tbody>\n",
       "</table>\n",
       "</div>"
      ],
      "text/plain": [
       "           ds              y\n",
       "0  2013-01-01    2511.618999\n",
       "1  2013-01-02  496092.417944\n",
       "2  2013-01-03  361461.231124\n",
       "3  2013-01-04  354459.677093\n",
       "4  2013-01-05  477350.121229"
      ]
     },
     "execution_count": 9,
     "metadata": {},
     "output_type": "execute_result"
    }
   ],
   "source": [
    "df.head()"
   ]
  },
  {
   "cell_type": "markdown",
   "id": "0ef44863-5d26-4b79-a3f7-37ec776a05a8",
   "metadata": {},
   "source": [
    "# Train Prophet model"
   ]
  },
  {
   "cell_type": "code",
   "execution_count": 14,
   "id": "958ed733-122a-43bf-ae35-9a1999fc0e46",
   "metadata": {},
   "outputs": [],
   "source": [
    "from prophet import Prophet"
   ]
  },
  {
   "cell_type": "code",
   "execution_count": 16,
   "id": "3710be68-3df0-439b-85fd-25961a3a8212",
   "metadata": {},
   "outputs": [],
   "source": [
    "model = Prophet()"
   ]
  },
  {
   "cell_type": "code",
   "execution_count": 18,
   "id": "f9472554-2f30-418a-8d7f-25a6be177a33",
   "metadata": {},
   "outputs": [
    {
     "name": "stderr",
     "output_type": "stream",
     "text": [
      "18:39:58 - cmdstanpy - INFO - Chain [1] start processing\n",
      "18:39:59 - cmdstanpy - INFO - Chain [1] done processing\n"
     ]
    },
    {
     "data": {
      "text/plain": [
       "<prophet.forecaster.Prophet at 0x15a2db4d190>"
      ]
     },
     "execution_count": 18,
     "metadata": {},
     "output_type": "execute_result"
    }
   ],
   "source": [
    "model.fit(df)"
   ]
  },
  {
   "cell_type": "markdown",
   "id": "f2da2a4c-09e9-4acc-b026-6ad46fbe3620",
   "metadata": {},
   "source": [
    "# Make Future Predictions"
   ]
  },
  {
   "cell_type": "code",
   "execution_count": 26,
   "id": "019cbcdd-30aa-40ce-983d-806f9b7e7fc3",
   "metadata": {},
   "outputs": [],
   "source": [
    "future = model.make_future_dataframe(periods=30)"
   ]
  },
  {
   "cell_type": "code",
   "execution_count": 28,
   "id": "e75f5bcd-c1bb-4c80-8f1c-7954d2701ec1",
   "metadata": {},
   "outputs": [],
   "source": [
    "forecast = model.predict(future)"
   ]
  },
  {
   "cell_type": "code",
   "execution_count": 30,
   "id": "87475978-a248-45ee-ab35-4761b04e1125",
   "metadata": {},
   "outputs": [],
   "source": [
    "forecast.to_csv(\"forecast_results.csv\", index=False)"
   ]
  },
  {
   "cell_type": "code",
   "execution_count": 32,
   "id": "9341a6f3-c8df-4610-86d4-9d10b7c21b5b",
   "metadata": {},
   "outputs": [
    {
     "data": {
      "text/html": [
       "<div>\n",
       "<style scoped>\n",
       "    .dataframe tbody tr th:only-of-type {\n",
       "        vertical-align: middle;\n",
       "    }\n",
       "\n",
       "    .dataframe tbody tr th {\n",
       "        vertical-align: top;\n",
       "    }\n",
       "\n",
       "    .dataframe thead th {\n",
       "        text-align: right;\n",
       "    }\n",
       "</style>\n",
       "<table border=\"1\" class=\"dataframe\">\n",
       "  <thead>\n",
       "    <tr style=\"text-align: right;\">\n",
       "      <th></th>\n",
       "      <th>ds</th>\n",
       "      <th>yhat</th>\n",
       "      <th>yhat_lower</th>\n",
       "      <th>yhat_upper</th>\n",
       "    </tr>\n",
       "  </thead>\n",
       "  <tbody>\n",
       "    <tr>\n",
       "      <th>1709</th>\n",
       "      <td>2017-09-10</td>\n",
       "      <td>1.101948e+06</td>\n",
       "      <td>974478.062721</td>\n",
       "      <td>1.239612e+06</td>\n",
       "    </tr>\n",
       "    <tr>\n",
       "      <th>1710</th>\n",
       "      <td>2017-09-11</td>\n",
       "      <td>8.926780e+05</td>\n",
       "      <td>759134.341829</td>\n",
       "      <td>1.027441e+06</td>\n",
       "    </tr>\n",
       "    <tr>\n",
       "      <th>1711</th>\n",
       "      <td>2017-09-12</td>\n",
       "      <td>8.457379e+05</td>\n",
       "      <td>688912.852173</td>\n",
       "      <td>9.868925e+05</td>\n",
       "    </tr>\n",
       "    <tr>\n",
       "      <th>1712</th>\n",
       "      <td>2017-09-13</td>\n",
       "      <td>8.697865e+05</td>\n",
       "      <td>725867.627326</td>\n",
       "      <td>1.002644e+06</td>\n",
       "    </tr>\n",
       "    <tr>\n",
       "      <th>1713</th>\n",
       "      <td>2017-09-14</td>\n",
       "      <td>7.822505e+05</td>\n",
       "      <td>640116.694233</td>\n",
       "      <td>9.227338e+05</td>\n",
       "    </tr>\n",
       "  </tbody>\n",
       "</table>\n",
       "</div>"
      ],
      "text/plain": [
       "             ds          yhat     yhat_lower    yhat_upper\n",
       "1709 2017-09-10  1.101948e+06  974478.062721  1.239612e+06\n",
       "1710 2017-09-11  8.926780e+05  759134.341829  1.027441e+06\n",
       "1711 2017-09-12  8.457379e+05  688912.852173  9.868925e+05\n",
       "1712 2017-09-13  8.697865e+05  725867.627326  1.002644e+06\n",
       "1713 2017-09-14  7.822505e+05  640116.694233  9.227338e+05"
      ]
     },
     "execution_count": 32,
     "metadata": {},
     "output_type": "execute_result"
    }
   ],
   "source": [
    "forecast[['ds', 'yhat', 'yhat_lower', 'yhat_upper']].tail()"
   ]
  },
  {
   "cell_type": "code",
   "execution_count": null,
   "id": "8d703dfd-518c-42e4-9dad-71132deacddf",
   "metadata": {},
   "outputs": [],
   "source": []
  }
 ],
 "metadata": {
  "kernelspec": {
   "display_name": "Python 3 (ipykernel)",
   "language": "python",
   "name": "python3"
  },
  "language_info": {
   "codemirror_mode": {
    "name": "ipython",
    "version": 3
   },
   "file_extension": ".py",
   "mimetype": "text/x-python",
   "name": "python",
   "nbconvert_exporter": "python",
   "pygments_lexer": "ipython3",
   "version": "3.11.7"
  }
 },
 "nbformat": 4,
 "nbformat_minor": 5
}
